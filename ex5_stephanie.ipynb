{
 "cells": [
  {
   "cell_type": "markdown",
   "id": "6c3951c2-fbdc-4391-aada-aabf25050d76",
   "metadata": {},
   "source": [
    "You consult for a personal trainer who has a back-to-back sequence of requests for appointments. A sequence of requests is of the form > 30, 40, 25, 50, 30, 20 where each number is the time that the person who makes the appointment wants to spend. You need to accept some requests, however you need a break between them, so you cannot accept two consecutive requests. For example, [30, 50, 20] is an acceptable solution (of duration 100), but [30, 40, 50, 20] is not, because 30 and 40 are two consecutive appointments. Your goal is to provide to the personal trainer a schedule that maximizes the total length of the accepted appointments. For example, in the previous instance, the optimal solution is [40, 50, 20], of total duration 110.\n",
    "\n",
    "Write an algorithm that computes the acceptable solution with the longest possible duration.\n",
    "Implement a program that given in input an instance in the form given above, gives the optimal solution."
   ]
  },
  {
   "cell_type": "code",
   "execution_count": 75,
   "id": "adb1942e-77c3-4d2d-8703-48a4450514fe",
   "metadata": {},
   "outputs": [
    {
     "name": "stdin",
     "output_type": "stream",
     "text": [
      "Enter all appointments separated by a space:  0 1 2 60\n"
     ]
    }
   ],
   "source": [
    "appointments=input('Enter all appointments separated by a space: ').split()\n",
    "l=[int(x) for x in appointments]"
   ]
  },
  {
   "cell_type": "markdown",
   "id": "ae1f60ad-e899-4bcd-8641-26678240e838",
   "metadata": {},
   "source": [
    "1.take max(l) to start and get its index i\n",
    "\n",
    "2.divide set into 2 subsets before and after i, excluding i+1 and i-1 (so that we don't take consecutive appointments)\n",
    "\n",
    "3.recall function on both subsets"
   ]
  },
  {
   "cell_type": "code",
   "execution_count": 76,
   "id": "838a238a-85a4-41f7-9abd-9786db394c35",
   "metadata": {},
   "outputs": [],
   "source": [
    "def max_seq(l):\n",
    "    n=len(l)\n",
    "    #basic cases\n",
    "    if n == 0:\n",
    "        return 0\n",
    "    if n == 1:\n",
    "        return l[0]\n",
    "    if n == 2:\n",
    "        return max(l[0], l[1])\n",
    "    ###########\n",
    "    accepted=[]\n",
    "    max_index =l.index(max(l))\n",
    "    accepted.append(l[max_index])\n",
    "    left= l[:max_index-1]\n",
    "    right= l[max_index+2:]\n",
    "    accepted.insert(0,max_seq(left))\n",
    "    accepted.append(max_seq(right))\n",
    "    #total duration\n",
    "    tot_duration=sum(accepted)\n",
    "    a=[str(int) for int in accepted]\n",
    "    print(\"Accept following appointments: \", \", \".join(a),\"\\nThe total duration is: \" ,tot_duration)"
   ]
  },
  {
   "cell_type": "code",
   "execution_count": 77,
   "id": "33dc4a77-feb8-4dd9-a807-5ada211c65e4",
   "metadata": {},
   "outputs": [
    {
     "name": "stdout",
     "output_type": "stream",
     "text": [
      "Accept following appointments:  1, 60, 0 \n",
      "The total duration is:  61\n"
     ]
    }
   ],
   "source": [
    "max_seq(l)"
   ]
  },
  {
   "cell_type": "code",
   "execution_count": null,
   "id": "bcc750b8-c029-4435-b568-9371e6a130d4",
   "metadata": {},
   "outputs": [],
   "source": []
  }
 ],
 "metadata": {
  "kernelspec": {
   "display_name": "Python 3",
   "language": "python",
   "name": "python3"
  },
  "language_info": {
   "codemirror_mode": {
    "name": "ipython",
    "version": 3
   },
   "file_extension": ".py",
   "mimetype": "text/x-python",
   "name": "python",
   "nbconvert_exporter": "python",
   "pygments_lexer": "ipython3",
   "version": "3.8.8"
  }
 },
 "nbformat": 4,
 "nbformat_minor": 5
}
