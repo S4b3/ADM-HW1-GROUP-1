{
 "cells": [
  {
   "cell_type": "markdown",
   "id": "35efa87c",
   "metadata": {},
   "source": [
    "Basically, we need to find the maximum sum of non-consecutive values.\n",
    "Below, the pseudocode of the algorithm."
   ]
  },
  {
   "cell_type": "markdown",
   "id": "ae2a1fad",
   "metadata": {},
   "source": [
    "Input: an array v of N elements\n",
    "Outpu: list of value to obtain the max sum of non consecutive value\n",
    "\n",
    "1   **Start**\n",
    "2   While v is not empty:\n",
    "\n",
    "3     list=[]   #empty list in which we will insert the values\n",
    "4     find max in v and consider it's index i\n",
    "5     list.append(v) #Add the first element             \n",
    "6     delete v [i-1], v [i], v [i + 1] # delete the found value and its neighbors\n",
    "7     **end**\n",
    "8    Return(list)  \n",
    "\n",
    "\n",
    "\n",
    "    "
   ]
  },
  {
   "cell_type": "markdown",
   "id": "f83dbc78",
   "metadata": {},
   "source": [
    "This is the implemtented program:"
   ]
  },
  {
   "cell_type": "code",
   "execution_count": 19,
   "id": "b56711c3",
   "metadata": {},
   "outputs": [],
   "source": [
    "import numpy as np"
   ]
  },
  {
   "cell_type": "code",
   "execution_count": 20,
   "id": "c69da9ce",
   "metadata": {},
   "outputs": [
    {
     "name": "stdout",
     "output_type": "stream",
     "text": [
      "How many appointment requests are there? --->4\n",
      "Insert a value that correspond to the duration of the appointment  --->30\n",
      "Insert a value that correspond to the duration of the appointment  --->40\n",
      "Insert a value that correspond to the duration of the appointment  --->25\n",
      "Insert a value that correspond to the duration of the appointment  --->50\n",
      "[30, 40, 25, 50]\n"
     ]
    }
   ],
   "source": [
    "    n=int(input(\"How many appointment requests are there? --->\"))\n",
    "    l = []\n",
    "   \n",
    "    for i in range(1,n+1):\n",
    "        x=int(input(\"Insert a value that correspond to the duration of the appointment  --->\"))\n",
    "        l.append(x)\n",
    "        \n",
    "    print (l) #our list\n",
    "    "
   ]
  },
  {
   "cell_type": "code",
   "execution_count": 21,
   "id": "a693bc52",
   "metadata": {},
   "outputs": [],
   "source": [
    "l_1=[] #list for new values\n",
    "\n",
    "\n",
    "\n"
   ]
  },
  {
   "cell_type": "code",
   "execution_count": 22,
   "id": "5a05bed5",
   "metadata": {},
   "outputs": [
    {
     "name": "stdout",
     "output_type": "stream",
     "text": [
      "[30, 40, 50]\n",
      "[30, 40]\n"
     ]
    },
    {
     "ename": "KeyboardInterrupt",
     "evalue": "",
     "output_type": "error",
     "traceback": [
      "\u001b[1;31m---------------------------------------------------------------------------\u001b[0m",
      "\u001b[1;31mKeyboardInterrupt\u001b[0m                         Traceback (most recent call last)",
      "\u001b[1;32m<ipython-input-22-6050116935b0>\u001b[0m in \u001b[0;36m<module>\u001b[1;34m\u001b[0m\n\u001b[0;32m      2\u001b[0m     \u001b[0mm\u001b[0m\u001b[1;33m=\u001b[0m\u001b[0mmax\u001b[0m\u001b[1;33m(\u001b[0m\u001b[0ml\u001b[0m\u001b[1;33m)\u001b[0m \u001b[1;31m#find max\u001b[0m\u001b[1;33m\u001b[0m\u001b[1;33m\u001b[0m\u001b[0m\n\u001b[0;32m      3\u001b[0m     \u001b[0mi\u001b[0m\u001b[1;33m=\u001b[0m\u001b[0ml\u001b[0m\u001b[1;33m.\u001b[0m\u001b[0mindex\u001b[0m\u001b[1;33m(\u001b[0m\u001b[0mm\u001b[0m\u001b[1;33m)\u001b[0m \u001b[1;31m#max index\u001b[0m\u001b[1;33m\u001b[0m\u001b[1;33m\u001b[0m\u001b[0m\n\u001b[1;32m----> 4\u001b[1;33m     \u001b[0mindex\u001b[0m\u001b[1;33m=\u001b[0m\u001b[1;33m[\u001b[0m\u001b[0mi\u001b[0m\u001b[1;33m-\u001b[0m\u001b[1;36m1\u001b[0m\u001b[1;33m,\u001b[0m\u001b[0mi\u001b[0m\u001b[1;33m,\u001b[0m\u001b[0mi\u001b[0m\u001b[1;33m+\u001b[0m\u001b[1;36m1\u001b[0m\u001b[1;33m]\u001b[0m \u001b[1;31m#consecutive values\u001b[0m\u001b[1;33m\u001b[0m\u001b[1;33m\u001b[0m\u001b[0m\n\u001b[0m\u001b[0;32m      5\u001b[0m     \u001b[0ml_1\u001b[0m\u001b[1;33m.\u001b[0m\u001b[0mappend\u001b[0m\u001b[1;33m(\u001b[0m\u001b[0mm\u001b[0m\u001b[1;33m)\u001b[0m\u001b[1;33m\u001b[0m\u001b[1;33m\u001b[0m\u001b[0m\n\u001b[0;32m      6\u001b[0m     \u001b[1;32mfor\u001b[0m \u001b[0mj\u001b[0m \u001b[1;32min\u001b[0m \u001b[0mindici\u001b[0m\u001b[1;33m:\u001b[0m\u001b[1;33m\u001b[0m\u001b[1;33m\u001b[0m\u001b[0m\n",
      "\u001b[1;31mKeyboardInterrupt\u001b[0m: "
     ]
    }
   ],
   "source": [
    "while len(l)>0:\n",
    "    m=max(l) #find max\n",
    "    i=l.index(m) #max index\n",
    "    index=[i-1,i,i+1] #consecutive values\n",
    "    l_1.append(m)\n",
    "    for j in indici:\n",
    "        try:\n",
    "            l.pop(j)\n",
    "            #print(l)\n",
    "        except IndexError:\n",
    "            pass\n",
    "    \n",
    "\n",
    "\n",
    "    "
   ]
  },
  {
   "cell_type": "code",
   "execution_count": null,
   "id": "0e57f126",
   "metadata": {},
   "outputs": [],
   "source": [
    "print(l_1)"
   ]
  },
  {
   "cell_type": "markdown",
   "id": "117892a6",
   "metadata": {},
   "source": [
    "So, this is my code and it works.. but it's very very slow. Other ideas are welcome.\n",
    "Maybe try with a panda series that care about indexes?"
   ]
  }
 ],
 "metadata": {
  "kernelspec": {
   "display_name": "Python 3",
   "language": "python",
   "name": "python3"
  },
  "language_info": {
   "codemirror_mode": {
    "name": "ipython",
    "version": 3
   },
   "file_extension": ".py",
   "mimetype": "text/x-python",
   "name": "python",
   "nbconvert_exporter": "python",
   "pygments_lexer": "ipython3",
   "version": "3.8.8"
  }
 },
 "nbformat": 4,
 "nbformat_minor": 5
}
