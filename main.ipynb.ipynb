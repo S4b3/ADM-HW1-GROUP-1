{
 "cells": [
  {
   "cell_type": "markdown",
   "id": "3c6d3132-179b-4dfa-a1e2-b70ca28981da",
   "metadata": {
    "id": "3c6d3132-179b-4dfa-a1e2-b70ca28981da"
   },
   "source": [
    "# 1.1. Get the list of animes   \n",
    "We start from the list of animes to include in your corpus of documents. In particular, we focus on the top animes ever list. From this list we want to collect the url associated to each anime in the list. The list is long and splitted in many pages. We ask you to retrieve only the urls of the animes listed in the first 400 pages (each page has 50 animes so you will end up with 20000 unique anime urls).\n",
    "\n",
    "The output of this step is a .txt file whose single line corresponds to an anime's url.\n",
    "\n",
    "#1.2. Crawl animes    \n",
    "Once you get all the urls in the first 400 pages of the list, you:\n",
    "\n",
    "Download the html corresponding to each of the collected urls.\n",
    "After you collect a single page, immediately save its html in a file. In this way, if your program stops, for any reason, you will not lose the data collected up to the stopping point. More details in Important (2).\n",
    "Organize the entire set of downloaded html pages into folders. Each folder will contain the htmls of the animes in page 1, page 2, ... of the list of animes.\n"
   ]
  },
  {
   "cell_type": "code",
   "execution_count": null,
   "id": "ncB4vPMdCeLb",
   "metadata": {
    "colab": {
     "base_uri": "https://localhost:8080/"
    },
    "id": "ncB4vPMdCeLb",
    "outputId": "6b743bae-5216-4e88-8b14-b9961c8e9a36"
   },
   "outputs": [
    {
     "name": "stdout",
     "output_type": "stream",
     "text": [
      "Cloning into 'ADM-HW3-Group1'...\n",
      "remote: Enumerating objects: 153084, done.\u001b[K\n",
      "remote: Counting objects: 100% (153084/153084), done.\u001b[K\n",
      "remote: Compressing objects: 100% (118228/118228), done.\u001b[K\n",
      "remote: Total 153084 (delta 104460), reused 83465 (delta 34850), pack-reused 0\u001b[K\n",
      "Receiving objects: 100% (153084/153084), 152.79 MiB | 24.53 MiB/s, done.\n",
      "Resolving deltas: 100% (104460/104460), done.\n",
      "Checking out files: 100% (57381/57381), done.\n"
     ]
    }
   ],
   "source": [
    "!git clone https://github.com/S4b3/ADM-HW3-Group1.git"
   ]
  },
  {
   "cell_type": "code",
   "execution_count": 3,
   "id": "35b80b71-6561-43ff-af99-5c4a3d2abe5d",
   "metadata": {
    "id": "35b80b71-6561-43ff-af99-5c4a3d2abe5d"
   },
   "outputs": [
    {
     "name": "stdout",
     "output_type": "stream",
     "text": [
      "Collecting tabulate\n",
      "  Downloading tabulate-0.8.9-py3-none-any.whl (25 kB)\n",
      "Installing collected packages: tabulate\n",
      "Successfully installed tabulate-0.8.9\n"
     ]
    }
   ],
   "source": [
    "# Install BeautifulSoup, this will be needed to crawl the web\n",
    "#!pip3 install beautifulsoup4\n",
    "#!pip3 install tqdm\n",
    "#!pip3 install nltk\n",
    "!pip3 install tabulate"
   ]
  },
  {
   "cell_type": "code",
   "execution_count": 1,
   "id": "6617fc74-876e-4e74-b414-b87866eaa56c",
   "metadata": {
    "colab": {
     "base_uri": "https://localhost:8080/"
    },
    "id": "6617fc74-876e-4e74-b414-b87866eaa56c",
    "outputId": "fb1a68cb-193f-43dd-bc31-7bbe06adf54c"
   },
   "outputs": [
    {
     "name": "stderr",
     "output_type": "stream",
     "text": [
      "[nltk_data] Downloading package stopwords to\n",
      "[nltk_data]     C:\\Users\\Valentino\\AppData\\Roaming\\nltk_data...\n",
      "[nltk_data]   Package stopwords is already up-to-date!\n",
      "[nltk_data] Downloading package punkt to\n",
      "[nltk_data]     C:\\Users\\Valentino\\AppData\\Roaming\\nltk_data...\n",
      "[nltk_data]   Package punkt is already up-to-date!\n"
     ]
    },
    {
     "data": {
      "text/plain": [
       "' \\nif this returns an error on tabulate, install it by running the cell above.\\n'"
      ]
     },
     "execution_count": 1,
     "metadata": {},
     "output_type": "execute_result"
    }
   ],
   "source": [
    "# Import asyncio, this will be needed to perform asynchronous operations\n",
    "import os\n",
    "import asyncio\n",
    "# Importing multiprocessing to assign operations to threadpools\n",
    "import multiprocessing\n",
    "from multiprocessing.dummy import Pool as ThreadPool\n",
    "# Importing this to create necessary directories\n",
    "import pathlib\n",
    "from pathlib import Path\n",
    "from datetime import datetime\n",
    "from tqdm import tqdm\n",
    "import nltk\n",
    "from joblib import Parallel, delayed\n",
    "import json \n",
    "import math\n",
    "from collections import Counter\n",
    "import numpy as np\n",
    "\n",
    "nltk.download('stopwords')\n",
    "nltk.download('punkt')\n",
    "\n",
    "\n",
    "import functions\n",
    "\n",
    "''' \n",
    "if this returns an error on tabulate, install it by running the cell above.\n",
    "'''"
   ]
  },
  {
   "cell_type": "code",
   "execution_count": 2,
   "id": "0e11496b-65ec-42d7-9147-acade3ec3566",
   "metadata": {
    "colab": {
     "base_uri": "https://localhost:8080/"
    },
    "id": "0e11496b-65ec-42d7-9147-acade3ec3566",
    "outputId": "5b522a1f-a5ab-4699-9a1e-dcbf7f954866"
   },
   "outputs": [
    {
     "name": "stdout",
     "output_type": "stream",
     "text": [
      "12\n"
     ]
    }
   ],
   "source": [
    "'''\n",
    "Defining the amount of cores available for the process to use. If this slows your machine too much, hardcode it. \n",
    "EX: AVAILABLE_CORES = 4\n",
    "'''\n",
    "AVAILABLE_CORES = multiprocessing.cpu_count()\n",
    "print(AVAILABLE_CORES)\n",
    "\n",
    "# Initializing ThreadPools \n",
    "pool = ThreadPool(AVAILABLE_CORES)"
   ]
  },
  {
   "cell_type": "code",
   "execution_count": 14,
   "id": "fbc30b1c-a4cf-4fcf-abd9-f4645f7c1951",
   "metadata": {},
   "outputs": [],
   "source": [
    "def save_urls_to_txt(pages_of_urls):\n",
    "    count = 0\n",
    "    with open('./dataset/anime_urls.txt', 'w', encoding='utf-8') as txt_file :\n",
    "        for page in pages_of_urls :\n",
    "            for url in page :\n",
    "                txt_file.write(url + os.linesep)\n",
    "                count+=1\n",
    "    print(f'written {count} lines')\n",
    "    return True\n",
    "            "
   ]
  },
  {
   "cell_type": "code",
   "execution_count": 5,
   "id": "0e41284a-c8be-44b6-a87d-551b2cf0c773",
   "metadata": {
    "id": "0e41284a-c8be-44b6-a87d-551b2cf0c773",
    "outputId": "68ad8658-c64b-4783-ee62-3e252188b70e"
   },
   "outputs": [
    {
     "name": "stderr",
     "output_type": "stream",
     "text": [
      "100%|████████████████████████████████████████████████████████████████████████████████████████| 400/400 [00:00<?, ?it/s]\n",
      "100%|████████████████████████████████████████████████████████████████████████████████████████| 400/400 [00:00<?, ?it/s]"
     ]
    },
    {
     "name": "stdout",
     "output_type": "stream",
     "text": [
      "Done fetching the pages!\n",
      "Going to fetch urls\n"
     ]
    },
    {
     "name": "stderr",
     "output_type": "stream",
     "text": [
      "\n"
     ]
    },
    {
     "name": "stdout",
     "output_type": "stream",
     "text": [
      "Done fetching urls\n"
     ]
    }
   ],
   "source": [
    "# Defining pages variables based on how many pages we want to retrieve\n",
    "pages = [None] * 400\n",
    "pages_num = range(0,400)\n",
    "\n",
    "# Crawl Top Animes pages #\n",
    "pool.map(lambda num : functions.fetch_page(num, pages), pages_num)   \n",
    "# Parallel(n_jobs=AVAILABLE_CORES)(delayed(lambda num : functions.fetch_page(num, pages))(num) for num in tqdm(pages_num))\n",
    "print(\"Done fetching the pages!\")\n",
    "print(\"Going to fetch urls\")\n",
    "# Scraping all URLs present in the crawled pages #\n",
    "pool.map(lambda page : functions.fetch_urls_in_page(page, pages), pages)\n",
    "#Parallel(n_jobs=AVAILABLE_CORES)(delayed(lambda page : functions.fetch_urls_in_page(page, pages))(page) for page in tqdm(pages))\n",
    "print(\"Done fetching urls\")"
   ]
  },
  {
   "cell_type": "code",
   "execution_count": 15,
   "id": "f2c5f5d3-89cf-4b8c-bcc7-4f7f71c7df2d",
   "metadata": {},
   "outputs": [
    {
     "name": "stdout",
     "output_type": "stream",
     "text": [
      "written 19139 lines\n",
      "Saved all URLs in ./dataset/anime_urls.txt\n"
     ]
    }
   ],
   "source": [
    "saved_file = save_urls_to_txt(pages)\n",
    "if(saved_file):\n",
    "    print(\"Saved all URLs in ./dataset/anime_urls.txt\")\n",
    "else :\n",
    "    print(\"Couldn't save URLs in txt!\")"
   ]
  },
  {
   "cell_type": "code",
   "execution_count": null,
   "id": "b7b4e3c0-1652-41fb-9d89-a450b148f9bf",
   "metadata": {
    "id": "b7b4e3c0-1652-41fb-9d89-a450b148f9bf"
   },
   "outputs": [],
   "source": [
    "# Fetch animes for every requested page\n",
    "'''\n",
    "Here we fetch and save animes in html files. \n",
    "Starting_page defines from which page you want to resume the process. (It works as an index)\n",
    "\n",
    "EX: \n",
    "    to start from scratch:\n",
    "        starting_page = 0\n",
    "    if you want to start from the 10th page:\n",
    "        starting_page = 9\n",
    "    if you want to set 200 as an upper bound:\n",
    "        last_page = 199   \n",
    "'''\n",
    "starting_page = 384\n",
    "last_page = len(pages)\n",
    "pages_to_process = pages[starting_page:]\n",
    "for i in range(0, len(pages_to_process)) : \n",
    "    functions.fetch_animes_and_save_file(pages_to_process[i], starting_page+i+1, AVAILABLE_CORES)"
   ]
  },
  {
   "cell_type": "code",
   "execution_count": 3,
   "id": "b5c07f17-9e3c-4fdf-9e10-fc547c2a70ce",
   "metadata": {},
   "outputs": [
    {
     "name": "stdout",
     "output_type": "stream",
     "text": [
      "https://myanimelist.net/anime/5114/Fullmetal_Alchemist__Brotherhood\n"
     ]
    }
   ],
   "source": [
    "with open('./dataset/page_1/article_1.html', 'r', encoding=\"utf-8\") as f:\n",
    "    url = functions.extract_url_from_html( f.read() )\n",
    "    print(url)"
   ]
  },
  {
   "cell_type": "markdown",
   "id": "iH5KRuRjEEqJ",
   "metadata": {
    "id": "iH5KRuRjEEqJ"
   },
   "source": [
    "1.3 Parse downloaded pages\n",
    "At this point, you should have all the html documents about the animes of interest and you can start to extract the animes informations. The list of information we desire for each anime and their format is the following:\n",
    "\n",
    "Anime Name (to save as animeTitle): String.  \n",
    "Anime Type (to save as animeType): String.   \n",
    "Number of episode (to save as animeNumEpisode): Integer.   \n",
    "Release and End Dates of anime (to save as releaseDate and endDate): Convert both release and end date into datetime format.     \n",
    "Number of members (to save as animeNumMembers): Integer.    \n",
    "Score (to save as animeScore): Float.   \n",
    "Users (to save as animeUsers): Integer    \n",
    "Rank (to save as animeRank): Integer.    \n",
    "Popularity (to save as animePopularity): Integer.    \n",
    "Synopsis (to save as animeDescription): String.    \n",
    "Related Anime (to save as animeRelated): Extract all the related animes, but only keep unique       values and those that have a hyperlink associated to them. List of strings.        \n",
    "Characters (to save as animeCharacters): List of strings.         \n",
    "Voices (to save as animeVoices): List of strings.     \n",
    "Staff (to save as animeStaff): Include the staff  name and their responsibility/task in a list of lists.     "
   ]
  },
  {
   "cell_type": "code",
   "execution_count": null,
   "id": "c-VT6XH7CS_b",
   "metadata": {
    "id": "c-VT6XH7CS_b"
   },
   "outputs": [],
   "source": [
    "# test code on just one single html:\n",
    "functions.extract_informations_from_anime_html('./dataset/page_1/article_1.html')"
   ]
  },
  {
   "cell_type": "code",
   "execution_count": 4,
   "id": "CfWrkzqgr4jI",
   "metadata": {
    "colab": {
     "background_save": true
    },
    "id": "CfWrkzqgr4jI",
    "outputId": "0ecb1a4d-1899-42df-e944-861ab379280e",
    "tags": []
   },
   "outputs": [
    {
     "name": "stderr",
     "output_type": "stream",
     "text": [
      "19124it [24:57, 12.77it/s]\n"
     ]
    }
   ],
   "source": [
    "# find all files into directories\n",
    "matches = pathlib.Path(\"./dataset\").glob(\"**/*.html\")\n",
    "# multiprocess parsing every html into a tsv\n",
    "result = Parallel(n_jobs=AVAILABLE_CORES)(delayed(functions.extract_informations_from_anime_html)(path) for path in tqdm(matches))\n",
    "#pool.map(extract_informations_from_anime_html, matches)"
   ]
  },
  {
   "cell_type": "markdown",
   "id": "YFSv5Rn-t8Dd",
   "metadata": {
    "id": "YFSv5Rn-t8Dd"
   },
   "source": [
    "# 2. Search Engine   \n",
    "Now, we want to create two different Search Engines that, given as input a query, return the animes that match the query.   \n",
    "\n",
    "First, you must pre-process all the information collected for each anime by:\n",
    "\n",
    "**Removing stopwords**   \n",
    "**Removing punctuation**   \n",
    "**Stemming**   \n",
    "**Anything else you think it's needed**   \n",
    "\n",
    "For this purpose, you can use the nltk library."
   ]
  },
  {
   "cell_type": "code",
   "execution_count": 4,
   "id": "fcd640c3-5338-4d82-a62d-89ded05ba0a0",
   "metadata": {
    "id": "fcd640c3-5338-4d82-a62d-89ded05ba0a0",
    "outputId": "4bc641e7-e0ed-44fe-b937-8e547298c891"
   },
   "outputs": [],
   "source": [
    "functions.preprocess_tsv('./tsv_dataset/anime_11794.tsv')"
   ]
  },
  {
   "cell_type": "code",
   "execution_count": 4,
   "id": "ee66ae4d-a4a8-407b-bc99-0d72e8a397c4",
   "metadata": {
    "id": "ee66ae4d-a4a8-407b-bc99-0d72e8a397c4"
   },
   "outputs": [],
   "source": [
    "tsv_matches = pathlib.Path(\"./tsv_dataset\").glob(\"*.tsv\")\n",
    "#result = pool.map(functions.preprocess_tsv, tsv_matches)\n",
    "for match in tsv_matches:\n",
    "    functions.preprocess_tsv(match)"
   ]
  },
  {
   "cell_type": "markdown",
   "id": "77709011-1b23-4c2d-a74b-73fef207e750",
   "metadata": {
    "id": "77709011-1b23-4c2d-a74b-73fef207e750"
   },
   "source": [
    "2.1. Conjunctive query   \n",
    "For the first version of the search engine, we narrow our interest on the Synopsis of each anime. It means that you will evaluate queries only with respect to the anime's description.\n",
    "\n",
    "2.1.1 Create your index!   \n",
    "Before building the index,\n",
    "\n",
    "- Create a file named vocabulary, in the format you prefer, that maps each word to an integer (term_id)."
   ]
  },
  {
   "cell_type": "code",
   "execution_count": 3,
   "id": "ecb923ff-9dc5-4c49-a0af-5219b8db88c2",
   "metadata": {
    "id": "ecb923ff-9dc5-4c49-a0af-5219b8db88c2"
   },
   "outputs": [],
   "source": [
    "preprocessed_files = pathlib.Path(\"./preprocessed_dataset\").glob(\"*.json\")\n",
    "functions.hydrate_vocabulary_from_files(preprocessed_files, AVAILABLE_CORES)"
   ]
  },
  {
   "cell_type": "code",
   "execution_count": 8,
   "id": "64a5f1ea-d86b-46c7-b862-e757ac692f23",
   "metadata": {
    "id": "64a5f1ea-d86b-46c7-b862-e757ac692f23",
    "outputId": "f65c59e9-efdb-4d38-bf46-03288c2738bd"
   },
   "outputs": [
    {
     "name": "stdout",
     "output_type": "stream",
     "text": [
      "1------------starting hydrating inverted index-------------\n",
      "1------------inverted index not yet existant---------------\n",
      "1------------reading vocabulary----------------------------\n",
      "1------------proceeding to multiprocess inputs-------------\n",
      "1------------finished to multiprocess inputs---------------\n",
      "1------------finished hydrating inverted index-------------\n",
      "1------------dumping inverted index -----------------------\n",
      "1------------dumped inverted index to path-----------------\n",
      "./indexes/synopsis_index.json\n"
     ]
    }
   ],
   "source": [
    "inverted_index_path = './indexes/synopsis_index.json'\n",
    "vocabulary_path = './vocabulary.json'\n",
    "Path(\"./indexes\").mkdir(parents=True, exist_ok=True)\n",
    "preprocessed_files = pathlib.Path(\"./preprocessed_dataset\").glob(\"*.json\")\n",
    "functions.hydrate_synopsys_inverted_index_with_given_files_and_vocabulary(inverted_index_path, preprocessed_files, vocabulary_path, AVAILABLE_CORES)"
   ]
  },
  {
   "cell_type": "code",
   "execution_count": 5,
   "id": "b8d85e08-4a75-4dd7-9779-b14dec116fd7",
   "metadata": {
    "id": "b8d85e08-4a75-4dd7-9779-b14dec116fd7",
    "outputId": "699e026f-b6fc-462d-8d5f-41757fb7fdd3",
    "tags": []
   },
   "outputs": [
    {
     "name": "stdout",
     "output_type": "stream",
     "text": [
      "Results for \"zombie school\" : 5 | elapsed time: 0.253229 seconds\n",
      "| Title                                       | Description                                                                                                                                                                                                                                                                                                                                                                                                                                                                                                                               |\n",
      "|---------------------------------------------+-------------------------------------------------------------------------------------------------------------------------------------------------------------------------------------------------------------------------------------------------------------------------------------------------------------------------------------------------------------------------------------------------------------------------------------------------------------------------------------------------------------------------------------------|\n",
      "| Kore wa Zombie Desu ka?                     | Ayumu Aikawa is a 16-year-old high school student who is tragically murdered while investigating a suspicious house. However, he soon awakens next to a strange armored girl called Eucliwood Hellscythe. She reveals herself to be a necromancer who has revived Ayumu, consequently turning him into a zombie!                                                                                                                                                                                                                          |\n",
      "|                                             |                                                                                                                                                                                                                                                                                                                                                                                                                                                                                                                                           |\n",
      "|                                             | Now immortal, Ayumu sets out to hunt down his killer. One day, while searching in a cemetery, he encounters a boisterous young girl named Haruna, who is fighting a bear with a chainsaw while dressed as a magical girl. After she kills the beast, Haruna attempts to erase Ayumu's memories of her, but he instead absorbs her magic for himself. Stripped of her powers, Haruna now orders Ayumu to take up her role of hunting strange creatures known as \"Megalo,\" monsters that roam the human world and terrorize the population. |\n",
      "|                                             |                                                                                                                                                                                                                                                                                                                                                                                                                                                                                                                                           |\n",
      "|                                             | Kore wa Zombie Desu ka? follows the daily antics of the human-turned-zombie Ayumu as he begins his new, ludicrous life where the supernatural becomes the norm.                                                                                                                                                                                                                                                                                                                                                                           |\n",
      "|                                             |                                                                                                                                                                                                                                                                                                                                                                                                                                                                                                                                           |\n",
      "|                                             | [Written by MAL Rewrite]                                                                                                                                                                                                                                                                                                                                                                                                                                                                                                                  |\n",
      "| Boku no Hero Academia: Training of the Dead | Returning from their internships, the students of Class 1-A are immediately thrown into more training by their homeroom teacher, Shouta Aizawa. For this exercise, the class will be joining four students from Isamu Academy High School to compete in a survival game. Split up into groups of four, students must either eliminate each other or stay hidden until time runs out to win.                                                                                                                                               |\n",
      "|                                             |                                                                                                                                                                                                                                                                                                                                                                                                                                                                                                                                           |\n",
      "|                                             | The training also acts as a reunion between Tsuyu Asui and her friend from middle school, Habuko Mongoose. However, not all the students from Isamu are friendly—Katsuki Bakugou almost instantly picks a fight with Romero Fujimi. The conflict between the two leads Romero to angrily release his Quirk, a gas which zombifies anyone it comes in contact with. How will the remaining students deal with the situation after most of the people around them turn into zombies?                                                        |\n",
      "|                                             |                                                                                                                                                                                                                                                                                                                                                                                                                                                                                                                                           |\n",
      "|                                             | [Written by MAL Rewrite]                                                                                                                                                                                                                                                                                                                                                                                                                                                                                                                  |\n",
      "| Alice in Deadly School                      | The story begins with the peaceful daily life of schoolgirls—which suddenly breaks down when former schoolmates become zombies. The story follows the actions taken by the girls left behind on the school roof.                                                                                                                                                                                                                                                                                                                          |\n",
      "|                                             |                                                                                                                                                                                                                                                                                                                                                                                                                                                                                                                                           |\n",
      "|                                             | (Source: ANN)                                                                                                                                                                                                                                                                                                                                                                                                                                                                                                                             |\n",
      "|                                             |                                                                                                                                                                                                                                                                                                                                                                                                                                                                                                                                           |\n",
      "|                                             | A short special edit of the OVA, titled Alice in Deadly School Tokubetsu-ban: Ima, Stage no Maku ga Agaru (Alice in Deadly School Special Edit -The Stage Begins-), was broadcasted on January 4, 2021 as part of the New Year's special.                                                                                                                                                                                                                                                                                                 |\n",
      "| Sarazanmai                                  | After the noble Kappa Kingdom falls to the Otter Empire, the Kappa prince Keppi loses much of his power and becomes helpless against the unseen Kapa-zombies. These zombies plague the world, and are the creations of the Otters and manifestations of people's deepest desires. With no other choice, Keppi must rely on three young boys: Kazuki Yasaka, who must carry a box with him wherever he goes; Enta Jinnai, Kazuki's childhood friend; and Tooi Kuji, a delinquent and a school truant.                                      |\n",
      "|                                             |                                                                                                                                                                                                                                                                                                                                                                                                                                                                                                                                           |\n",
      "|                                             | By having the mythical organ called a shirikodama removed from them, the boys are able to become Kappa themselves and fight the Kapa-zombies. However, to defeat them, the boys must connect with each other via their minds, bodies, and—most importantly—secrets. As the Kappa Kingdom relies on these boys, they must reveal themselves as they have never done before, all the while learning that connections are fragile and truly precious things.                                                                                 |\n",
      "|                                             |                                                                                                                                                                                                                                                                                                                                                                                                                                                                                                                                           |\n",
      "|                                             | [Written by MAL Rewrite]                                                                                                                                                                                                                                                                                                                                                                                                                                                                                                                  |\n",
      "| Sankarea: Wagahai mo... Zombie de Aru...    | Extra episode included on BD/DVD vol. 6; effectively episode 13.                                                                                                                                                                                                                                                                                                                                                                                                                                                                          |\n",
      "|                                             |                                                                                                                                                                                                                                                                                                                                                                                                                                                                                                                                           |\n",
      "|                                             | Despite their decaying bodies, Rea’s zombie power comes in handy both at school and at home, and Babu gets interested in another cat—although this particular feline is one of the living.                                                                                                                                                                                                                                                                                                                                                |\n",
      "|                                             |                                                                                                                                                                                                                                                                                                                                                                                                                                                                                                                                           |\n",
      "|                                             | (Source: FUNimation)                                                                                                                                                                                                                                                                                                                                                                                                                                                                                                                      |\n"
     ]
    }
   ],
   "source": [
    "try:\n",
    "    functions.perform_query('zombie school')\n",
    "except Exception as e :\n",
    "    print(e)"
   ]
  },
  {
   "cell_type": "markdown",
   "id": "8608a356-a012-4f61-b337-78150209c92d",
   "metadata": {
    "id": "8608a356-a012-4f61-b337-78150209c92d"
   },
   "source": [
    "2.2) Conjunctive query & Ranking score<br />\n",
    "For the second search engine, given a query, we want to get the top-k (the choice of k it's up to you!) documents related to the query. In particular:\n",
    "\n",
    "Find all the documents that contains all the words in the query.   \n",
    "Sort them by their similarity with the query.   \n",
    "Return in output k documents, or all the documents with non-zero similarity with the query when the results are less than k. You must use a heap data structure (you can use Python libraries) for maintaining the top-k documents.   \n",
    "To solve this task, you will have to use the **tfIdf** score, and the **Cosine similarity**. The field to consider it is still the synopsis. Let's see how."
   ]
  },
  {
   "cell_type": "markdown",
   "id": "1617cf76-233f-4f9f-ab83-1dea02c27dba",
   "metadata": {
    "id": "1617cf76-233f-4f9f-ab83-1dea02c27dba"
   },
   "source": [
    "2.2.1) Inverted index\n",
    "Your second Inverted Index must be of this format:"
   ]
  },
  {
   "cell_type": "code",
   "execution_count": 9,
   "id": "63b18dc9-c8e6-40a1-98ee-2c35ad8584ec",
   "metadata": {
    "colab": {
     "base_uri": "https://localhost:8080/"
    },
    "id": "63b18dc9-c8e6-40a1-98ee-2c35ad8584ec",
    "outputId": "17ff923d-4efb-4125-e272-6c4dc3f6c00c"
   },
   "outputs": [
    {
     "name": "stdout",
     "output_type": "stream",
     "text": [
      "1------------starting hydrating inverted index-------------\n",
      "1------------inverted index not yet existant---------------\n",
      "1------------reading vocabulary----------------------------\n",
      "1------------proceeding to multiprocess inputs-------------\n",
      "1------------finished to multiprocess inputs---------------\n",
      "1------------finished hydrating inverted index-------------\n",
      "1------------dumping inverted index -----------------------\n",
      "1------------dumped inverted index to path-----------------\n",
      "./indexes/tf_idf_synopsis_index.json\n"
     ]
    }
   ],
   "source": [
    "inverted_index_path = './indexes/tf_idf_synopsis_index.json'\n",
    "idf_source_index_path = './indexes/synopsis_index.json'\n",
    "vocabulary_path = './vocabulary.json'\n",
    "Path(\"./indexes\").mkdir(parents=True, exist_ok=True)\n",
    "preprocessed_files = pathlib.Path(\"./preprocessed_dataset\").glob(\"*.json\")\n",
    "functions.hydrate_synopsys_inverted_index_with_given_files_and_vocabulary(\n",
    "    inverted_index_path,\n",
    "    preprocessed_files,\n",
    "    vocabulary_path,\n",
    "    AVAILABLE_CORES,\n",
    "    True,\n",
    "    19124,\n",
    "    idf_source_index_path,\n",
    "    )"
   ]
  },
  {
   "cell_type": "code",
   "execution_count": 7,
   "id": "-hJrZmTczxFX",
   "metadata": {
    "colab": {
     "base_uri": "https://localhost:8080/"
    },
    "id": "-hJrZmTczxFX",
    "outputId": "bc8869b5-22fc-424e-a93f-61d20771273f"
   },
   "outputs": [
    {
     "name": "stdout",
     "output_type": "stream",
     "text": [
      "[0. 0. 0. ... 0. 0. 0.]\n",
      "{'anime_365', 'anime_400', 'anime_1468', 'anime_1035'}\n",
      "[0. 0. 0. ... 0. 0. 0.]\n",
      "[0. 0. 0. ... 0. 0. 0.]\n",
      "[0. 0. 0. ... 0. 0. 0.]\n",
      "[0. 0. 0. ... 0. 0. 0.]\n",
      "| Title                                                   | Description                                                                                                                                                                                                                                                                                                                                                                                                                                                                                                                                                                                                                                                                       |\n",
      "|---------------------------------------------------------+-----------------------------------------------------------------------------------------------------------------------------------------------------------------------------------------------------------------------------------------------------------------------------------------------------------------------------------------------------------------------------------------------------------------------------------------------------------------------------------------------------------------------------------------------------------------------------------------------------------------------------------------------------------------------------------|\n",
      "| Dragon Ball Z                                           | Five years after winning the World Martial Arts tournament, Gokuu is now living a peaceful life with his wife and son. This changes, however, with the arrival of a mysterious enemy named Raditz who presents himself as Gokuu's long-lost brother. He reveals that Gokuu is a warrior from the once powerful but now virtually extinct Saiyan race, whose homeworld was completely annihilated. When he was sent to Earth as a baby, Gokuu's sole purpose was to conquer and destroy the planet; but after suffering amnesia from a head injury, his violent and savage nature changed, and instead was raised as a kind and well-mannered boy, now fighting to protect others. |\n",
      "|                                                         |                                                                                                                                                                                                                                                                                                                                                                                                                                                                                                                                                                                                                                                                                   |\n",
      "|                                                         | With his failed attempt at forcibly recruiting Gokuu as an ally, Raditz warns Gokuu's friends of a new threat that's rapidly approaching Earth—one that could plunge Earth into an intergalactic conflict and cause the heavens themselves to shake. A war will be fought over the seven mystical dragon balls, and only the strongest will survive in Dragon Ball Z.                                                                                                                                                                                                                                                                                                             |\n",
      "|                                                         |                                                                                                                                                                                                                                                                                                                                                                                                                                                                                                                                                                                                                                                                                   |\n",
      "|                                                         | [Written by MAL Rewrite]                                                                                                                                                                                                                                                                                                                                                                                                                                                                                                                                                                                                                                                          |\n",
      "| Dragon Ball Super: Broly                                | Forty-one years ago on Planet Vegeta, home of the infamous Saiyan warrior race, King Vegeta noticed a baby named Broly whose latent power exceeded that of his own son. Believing that Broly's power would one day surpass that of his child, Vegeta, the king sends Broly to the desolate planet Vampa. Broly's father Paragus follows after him, intent on rescuing his son. However, his ship gets damaged, causing the two to spend years trapped on the barren world, unaware of the salvation that would one day come from an unlikely ally.                                                                                                                                |\n",
      "|                                                         |                                                                                                                                                                                                                                                                                                                                                                                                                                                                                                                                                                                                                                                                                   |\n",
      "|                                                         | Years later on Earth, Gokuu Son and Prince Vegeta—believed to be the last survivors of the Saiyan race—are busy training on a remote island. But their sparring is interrupted when the appearance of their old enemy Frieza drives them to search for the last of the wish-granting Dragon Balls on a frozen continent. Once there, Frieza shows off his new allies: Paragus and the now extremely powerful Broly. A legendary battle that shakes the foundation of the world ensues as Gokuu and Vegeta face off against Broly, a warrior without equal whose rage is just waiting to be unleashed.                                                                             |\n",
      "|                                                         |                                                                                                                                                                                                                                                                                                                                                                                                                                                                                                                                                                                                                                                                                   |\n",
      "|                                                         | [Written by MAL Rewrite]                                                                                                                                                                                                                                                                                                                                                                                                                                                                                                                                                                                                                                                          |\n",
      "| Dragon Ball Z Special 1: Tatta Hitori no Saishuu Kessen | Bardock, Son Goku's father, is a low-ranking Saiyan soldier who was given the power to see into the future by the last remaining alien on a planet he just destroyed. He witnesses the destruction of his race and must now do his best to stop Frieza's impending massacre.                                                                                                                                                                                                                                                                                                                                                                                                      |\n",
      "|                                                         |                                                                                                                                                                                                                                                                                                                                                                                                                                                                                                                                                                                                                                                                                   |\n",
      "|                                                         | (Source: ANN)                                                                                                                                                                                                                                                                                                                                                                                                                                                                                                                                                                                                                                                                     |\n",
      "| Dragon Ball Kai                                         | Five years after the events of Dragon Ball, martial arts expert Gokuu is now a grown man married to his wife Chi-Chi, with a four-year old son named Gohan. While attending a reunion on Turtle Island with his old friends Master Roshi, Krillin, Bulma and others, the festivities are interrupted when a humanoid alien named Raditz not only reveals the truth behind Gokuu's past, but kidnaps Gohan as well.                                                                                                                                                                                                                                                                |\n",
      "|                                                         |                                                                                                                                                                                                                                                                                                                                                                                                                                                                                                                                                                                                                                                                                   |\n",
      "|                                                         | With Raditz displaying power beyond anything Gokuu has seen before, he is forced to team up with his old nemesis, Piccolo, in order to rescue his son. But when Gokuu and Piccolo reveal the secret of the seven mystical wish-granting Dragon Balls to Raditz, he informs the duo that there is more of his race, the Saiyans, and they won’t pass up an opportunity to seize the power of the Dragon Balls for themselves.                                                                                                                                                                                                                                                      |\n",
      "|                                                         |                                                                                                                                                                                                                                                                                                                                                                                                                                                                                                                                                                                                                                                                                   |\n",
      "|                                                         | These events begin the saga of Dragon Ball Kai, a story that finds Gokuu and his friends and family constantly defending the galaxy from increasingly more powerful threats. Bizarre, comical, heartwarming and threatening characters come together in a series of battles that push the powers and abilities of Gokuu and his friends beyond anything they have ever experienced.                                                                                                                                                                                                                                                                                               |\n"
     ]
    }
   ],
   "source": [
    "functions.perform_query_with_idf('saiyan race')"
   ]
  },
  {
   "cell_type": "code",
   "execution_count": null,
   "id": "wCgenwO61GsJ",
   "metadata": {
    "id": "wCgenwO61GsJ"
   },
   "outputs": [],
   "source": []
  }
 ],
 "metadata": {
  "colab": {
   "collapsed_sections": [],
   "name": "Copia di Copia di HW3 in progress",
   "provenance": []
  },
  "kernelspec": {
   "display_name": "Python 3",
   "language": "python",
   "name": "python3"
  },
  "language_info": {
   "codemirror_mode": {
    "name": "ipython",
    "version": 3
   },
   "file_extension": ".py",
   "mimetype": "text/x-python",
   "name": "python",
   "nbconvert_exporter": "python",
   "pygments_lexer": "ipython3",
   "version": "3.8.8"
  }
 },
 "nbformat": 4,
 "nbformat_minor": 5
}
